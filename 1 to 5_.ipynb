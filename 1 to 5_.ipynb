{
 "cells": [
  {
   "cell_type": "markdown",
   "id": "88a4266d",
   "metadata": {},
   "source": [
    "## FUNCTIONS"
   ]
  },
  {
   "cell_type": "code",
   "execution_count": null,
   "id": "88f8c4d4",
   "metadata": {},
   "outputs": [],
   "source": [
    "## 1. Define and Call a Simple Function\n",
    "## Objective: Practice defining and calling a function with no parameters.\n",
    "\n",
    "## Write a function called greet_user that prints a simple greeting message.\n",
    "##  Call the function to display the message."
   ]
  },
  {
   "cell_type": "code",
   "execution_count": null,
   "id": "080eb1c4",
   "metadata": {},
   "outputs": [
    {
     "name": "stdout",
     "output_type": "stream",
     "text": [
      "Welcome in our company\n"
     ]
    }
   ],
   "source": [
    "def greet_user():\n",
    "    print('Welcome in our company!')\n",
    "\n",
    "\n",
    "greet_user()"
   ]
  },
  {
   "cell_type": "code",
   "execution_count": null,
   "id": "256fdd74",
   "metadata": {},
   "outputs": [],
   "source": [
    "## 2. Function with a Parameter\n",
    "## Objective: Work with function parameters and arguments.\n",
    "\n",
    "## Define a function called greet_user that takes one parameter, username, and prints\n",
    "## a personalized greeting. Call the function and provide a username as an argument."
   ]
  },
  {
   "cell_type": "code",
   "execution_count": 9,
   "id": "7520f6a1",
   "metadata": {},
   "outputs": [
    {
     "name": "stdout",
     "output_type": "stream",
     "text": [
      "Giorgio welcome in this nice and popular place.\n"
     ]
    }
   ],
   "source": [
    "def greet_user(username):\n",
    "    print(username + ' welcome in this nice and popular place.')\n",
    "\n",
    "greet_user('Giorgio')\n",
    "\n"
   ]
  },
  {
   "cell_type": "code",
   "execution_count": null,
   "id": "cdc05fe5",
   "metadata": {},
   "outputs": [],
   "source": [
    "## 3. Function with a Default Parameter Value\n",
    "## Objective: Understand and use default values for function parameters.\n",
    "\n",
    "## Write a function make_pizza that takes one parameter called topping,\n",
    "## with a default value of 'bacon'. The function should print a message about the pizza.\n",
    "## Call the function twice: once with no argument and once with a different topping."
   ]
  },
  {
   "cell_type": "code",
   "execution_count": 12,
   "id": "501abf1f",
   "metadata": {},
   "outputs": [
    {
     "name": "stdout",
     "output_type": "stream",
     "text": [
      "The pizza margherita is very good with bacon.\n",
      "The pizza margherita is very good with ananas.\n"
     ]
    }
   ],
   "source": [
    "def make_pizza(topping = 'bacon'):\n",
    "    print('The pizza margherita is very good with ' + topping + '.')\n",
    "\n",
    "make_pizza()\n",
    "make_pizza('ananas')"
   ]
  },
  {
   "cell_type": "code",
   "execution_count": null,
   "id": "b71822c6",
   "metadata": {},
   "outputs": [],
   "source": [
    "## 4. Returning Values from a Function\n",
    "## Objective: Learn how to return values from functions.\n",
    "\n",
    "## Create a function add_numbers that takes two numbers as parameters,\n",
    "## adds them together, and returns the sum. Call the function with two numbers and print the result."
   ]
  },
  {
   "cell_type": "code",
   "execution_count": 23,
   "id": "8cdf17ae",
   "metadata": {},
   "outputs": [
    {
     "name": "stdout",
     "output_type": "stream",
     "text": [
      "4\n"
     ]
    }
   ],
   "source": [
    "def add_numbers(num_1, num_2):\n",
    "    sum = num_1 + num_2\n",
    "    return(sum)\n",
    "\n",
    "\n",
    "result = add_numbers(2,2)\n",
    "print(result)\n",
    "\n"
   ]
  },
  {
   "cell_type": "code",
   "execution_count": null,
   "id": "11784e16",
   "metadata": {},
   "outputs": [],
   "source": [
    "## 5. Function That Accepts User Input and Returns a Value\n",
    "## Objective: Combine user input, function parameters, and return values.\n",
    "\n",
    "## Write a function get_full_name that takes first_name and last_name as parameters\n",
    "## and returns the full name formatted as a single string. Prompt the user for their first\n",
    "## and last name, pass these to the function, and print the result."
   ]
  },
  {
   "cell_type": "code",
   "execution_count": 35,
   "id": "565c13c2",
   "metadata": {},
   "outputs": [
    {
     "name": "stdout",
     "output_type": "stream",
     "text": [
      "Davide Russo\n"
     ]
    }
   ],
   "source": [
    "def get_full_name(first_name, last_name):\n",
    "    return(first_name + ' ' + last_name)\n",
    "\n",
    "\n",
    "result = get_full_name('Davide', 'Russo')\n",
    "print(result)"
   ]
  }
 ],
 "metadata": {
  "kernelspec": {
   "display_name": "Python 3",
   "language": "python",
   "name": "python3"
  },
  "language_info": {
   "codemirror_mode": {
    "name": "ipython",
    "version": 3
   },
   "file_extension": ".py",
   "mimetype": "text/x-python",
   "name": "python",
   "nbconvert_exporter": "python",
   "pygments_lexer": "ipython3",
   "version": "3.11.3"
  }
 },
 "nbformat": 4,
 "nbformat_minor": 5
}
