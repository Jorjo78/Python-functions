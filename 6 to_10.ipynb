{
 "cells": [
  {
   "cell_type": "code",
   "execution_count": null,
   "id": "6c63f975",
   "metadata": {},
   "outputs": [],
   "source": [
    "## 6. Function with Multiple Parameters and Optional Argument\n",
    "## Objective: Practice positional and optional (default) parameters, and string formatting.\n",
    "\n",
    "## Write a function get_full_name that takes first, last, and an optional middle parameter.\n",
    "## The function should return the full name in title case, including the middle name if provided.\n",
    "## Test the function with and without a middle name."
   ]
  },
  {
   "cell_type": "code",
   "execution_count": 9,
   "id": "f993922e",
   "metadata": {},
   "outputs": [
    {
     "data": {
      "text/plain": [
       "'Giorgio Giuseppe Cavallo'"
      ]
     },
     "execution_count": 9,
     "metadata": {},
     "output_type": "execute_result"
    }
   ],
   "source": [
    "def get_full_name(first, last, middle = ''):\n",
    "    if middle != '':\n",
    "        return(first + ' ' + middle + ' ' + last).title()\n",
    "    else:\n",
    "        return(first + ' ' + last).title()\n",
    "\n",
    "get_full_name('giorgio', 'cavallo', 'giuseppe')\n",
    "#get_full_name('giorgio', 'cavallo')\n"
   ]
  },
  {
   "cell_type": "code",
   "execution_count": null,
   "id": "709c8a5e",
   "metadata": {},
   "outputs": [],
   "source": [
    "## 7. Modify a List Inside a Function\n",
    "## Objective: Understand how lists are passed to functions and how modifications affect the original list.\n",
    "\n",
    "## Write a function remove_duplicates that accepts a list as a parameter and removes all duplicate items from the list in place.\n",
    "## Test your function with a list containing duplicates and print the list before and after the function call."
   ]
  },
  {
   "cell_type": "code",
   "execution_count": 15,
   "id": "da9ba38f",
   "metadata": {},
   "outputs": [
    {
     "name": "stdout",
     "output_type": "stream",
     "text": [
      "['Davide', 'Fede', 'Veronica', 'Fede', 'Davide']\n",
      "['Fede', 'Davide', 'Veronica']\n"
     ]
    }
   ],
   "source": [
    "names = ['Davide', 'Fede', 'Veronica', 'Fede', 'Davide']\n",
    "\n",
    "def remove_duplicates(ls):\n",
    "    # Convert the list to a set to remove duplicates (sets cannot have duplicates)\n",
    "    # Then convert back to a list\n",
    "    ls[:] = list(set(ls))\n",
    "    # Print the modified list to show the result\n",
    "    print(ls)\n",
    "\n",
    "print(names)  # Print the original list with duplicates\n",
    "remove_duplicates(names)  # Remove duplicates in place and print the result\n",
    "\n",
    "\n",
    "\n",
    "\n"
   ]
  },
  {
   "cell_type": "code",
   "execution_count": null,
   "id": "5006bbe8",
   "metadata": {},
   "outputs": [],
   "source": []
  },
  {
   "cell_type": "code",
   "execution_count": null,
   "id": "1c811d52",
   "metadata": {},
   "outputs": [],
   "source": [
    "## The ls[:] = ... syntax is used to modify the original list in place rather than creating a new list.\n",
    "## Here’s why it’s important:\n",
    "\n",
    "## Why use ls[:] = ...?\n",
    "## If you just write ls = list(set(ls)), you create a new list and assign it to the local variable ls inside the function.\n",
    "## The original list outside the function remains unchanged.\n",
    "## By using ls[:] = ..., you replace all the elements of the original list with the new values.\n",
    "## This way, any reference to the original list (outside the function) will see the updated contents.\n",
    "\n",
    "def remove_duplicates(ls):\n",
    "    ls[:] = list(set(ls))  # modifies the original list in place\n",
    "\n",
    "names = ['A', 'B', 'A']\n",
    "remove_duplicates(names)\n",
    "print(names)  # Output: ['A', 'B'] (order may vary)\n",
    "\n",
    "## If you used ls = list(set(ls)) instead, names would remain unchanged outside the function.\n"
   ]
  },
  {
   "cell_type": "code",
   "execution_count": null,
   "id": "664f7e1e",
   "metadata": {},
   "outputs": [],
   "source": [
    "## 8. Returning a Dictionary from a Function\n",
    "## Objective: Practice creating and returning dictionaries from functions,\n",
    "## and handling optional arguments.\n",
    "\n",
    "## Create a function build_profile that takes a first name, last name, and any number of keyword arguments.\n",
    "## The function should return a dictionary containing all the information. Demonstrate how to call the function with different numbers and types of keyword arguments."
   ]
  },
  {
   "cell_type": "code",
   "execution_count": null,
   "id": "67ce54ae",
   "metadata": {},
   "outputs": [],
   "source": [
    "def build_profile(first):\n"
   ]
  },
  {
   "cell_type": "code",
   "execution_count": null,
   "id": "8fb2a657",
   "metadata": {},
   "outputs": [],
   "source": [
    "## 9. Function Accepting and Processing a List\n",
    "## Objective: Pass a list to a function, process each item, and return a new list.\n",
    "\n",
    "## Write a function capitalize_names that takes a list of names and returns a new list with all names capitalized (title case).\n",
    "## Make sure the original list is not modified. Test your function with a list of lowercase names."
   ]
  },
  {
   "cell_type": "code",
   "execution_count": 51,
   "id": "dbbd9428",
   "metadata": {},
   "outputs": [
    {
     "data": {
      "text/plain": [
       "['Sara', 'Serena', 'Davide', 'Giorgio']"
      ]
     },
     "execution_count": 51,
     "metadata": {},
     "output_type": "execute_result"
    }
   ],
   "source": [
    "\n",
    "\n",
    "def capitalize_names(names):\n",
    "    new_names = []\n",
    "    for name in names:\n",
    "        new_names.append(name.title())\n",
    "    return(new_names)\n",
    "\n",
    "\n",
    "\n",
    "usernames = ['sara', 'serena', 'davide', 'giorgio']\n",
    "capitalize_names(usernames)"
   ]
  },
  {
   "cell_type": "code",
   "execution_count": null,
   "id": "a94a76be",
   "metadata": {},
   "outputs": [],
   "source": [
    "def capitalize_names(names):\n",
    "    # Previously, you tried to use .title() on the whole list, which doesn't work because .title() is a string method.\n",
    "    # Also, you had new_names defined outside the function, which could cause issues if the function is called multiple times.\n",
    "    # Now, you correctly create a new list inside the function and process each name individually.\n",
    "    new_names = []\n",
    "    for name in names:\n",
    "        # You now correctly capitalize each name before appending it to the new list.\n",
    "        new_names.append(name.title())\n",
    "    # The function returns a new list and does not modify the original list.\n",
    "    return new_names\n",
    "\n",
    "usernames = ['sara', 'serena', 'davide', 'giorgio']\n",
    "capitalize_names(usernames)"
   ]
  },
  {
   "cell_type": "code",
   "execution_count": null,
   "id": "454d1170",
   "metadata": {},
   "outputs": [],
   "source": [
    "## 10. Function with Arbitrary Number of Arguments\n",
    "## Objective: Use *args to handle a variable number of arguments and perform a calculation.\n",
    "\n",
    "## Define a function average_score that accepts any number of numeric arguments and returns their average.\n",
    "## Call the function with different numbers of arguments and print the results."
   ]
  },
  {
   "cell_type": "code",
   "execution_count": 59,
   "id": "0b8771a2",
   "metadata": {},
   "outputs": [
    {
     "data": {
      "text/plain": [
       "6.6"
      ]
     },
     "execution_count": 59,
     "metadata": {},
     "output_type": "execute_result"
    }
   ],
   "source": [
    "def average_score(*arguments):\n",
    "    total_sum = 0\n",
    "    for n in arguments:\n",
    "        total_sum += n\n",
    "    return(total_sum/len(arguments))\n",
    "\n",
    " \n",
    "\n",
    "average_score(1,2,5,10,15)\n"
   ]
  },
  {
   "cell_type": "code",
   "execution_count": null,
   "id": "771aa95a",
   "metadata": {},
   "outputs": [],
   "source": [
    "def average_score(*arguments):\n",
    "    # Previously, you used print(total_sum/len(arguments)), which only displayed the result\n",
    "    # and did not allow the function to return a value for further use.\n",
    "    # Now, you correctly use return to provide the result to the caller.\n",
    "    total_sum = 0\n",
    "    for n in arguments:\n",
    "        total_sum += n\n",
    "    # The function now returns the average, as required by the exercise.\n",
    "    return(total_sum/len(arguments))\n",
    "\n",
    "average_score(1,2,5,10,15)"
   ]
  },
  {
   "cell_type": "code",
   "execution_count": null,
   "id": "a7f95fab",
   "metadata": {},
   "outputs": [],
   "source": [
    "## *arguments (often written as *args by convention) allows a function to accept any number\n",
    "## of positional arguments as a tuple.\n",
    "## You can pass as many values as you want, and inside the function, arguments will be a tuple containing\n",
    "## all of them. This is useful when you don’t know in advance how many arguments will be passed to your function."
   ]
  }
 ],
 "metadata": {
  "kernelspec": {
   "display_name": "Python 3",
   "language": "python",
   "name": "python3"
  },
  "language_info": {
   "codemirror_mode": {
    "name": "ipython",
    "version": 3
   },
   "file_extension": ".py",
   "mimetype": "text/x-python",
   "name": "python",
   "nbconvert_exporter": "python",
   "pygments_lexer": "ipython3",
   "version": "3.11.3"
  }
 },
 "nbformat": 4,
 "nbformat_minor": 5
}
