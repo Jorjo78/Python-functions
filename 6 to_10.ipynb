{
 "cells": [
  {
   "cell_type": "code",
   "execution_count": null,
   "id": "6c63f975",
   "metadata": {},
   "outputs": [],
   "source": [
    "## 6. Function with Multiple Parameters and Optional Argument\n",
    "## Objective: Practice positional and optional (default) parameters, and string formatting.\n",
    "\n",
    "## Write a function get_full_name that takes first, last, and an optional middle parameter.\n",
    "## The function should return the full name in title case, including the middle name if provided.\n",
    "## Test the function with and without a middle name."
   ]
  },
  {
   "cell_type": "code",
   "execution_count": null,
   "id": "709c8a5e",
   "metadata": {},
   "outputs": [],
   "source": [
    "## 7. Modify a List Inside a Function\n",
    "## Objective: Understand how lists are passed to functions and how modifications affect the original list.\n",
    "\n",
    "## Write a function remove_duplicates that accepts a list as a parameter and removes all duplicate items from the list in place.\n",
    "## Test your function with a list containing duplicates and print the list before and after the function call."
   ]
  },
  {
   "cell_type": "code",
   "execution_count": null,
   "id": "664f7e1e",
   "metadata": {},
   "outputs": [],
   "source": [
    "## 3. Returning a Dictionary from a Function\n",
    "## Objective: Practice creating and returning dictionaries from functions,\n",
    "## and handling optional arguments.\n",
    "\n",
    "## Create a function build_profile that takes a first name, last name, and any number of keyword arguments.\n",
    "## The function should return a dictionary containing all the information. Demonstrate how to call the function with different numbers and types of keyword arguments."
   ]
  },
  {
   "cell_type": "code",
   "execution_count": null,
   "id": "8fb2a657",
   "metadata": {},
   "outputs": [],
   "source": [
    "## 4. Function Accepting and Processing a List\n",
    "## Objective: Pass a list to a function, process each item, and return a new list.\n",
    "\n",
    "## Write a function capitalize_names that takes a list of names and returns a new list with all names capitalized (title case).\n",
    "## Make sure the original list is not modified. Test your function with a list of lowercase names."
   ]
  },
  {
   "cell_type": "code",
   "execution_count": null,
   "id": "454d1170",
   "metadata": {},
   "outputs": [],
   "source": [
    "## 5. Function with Arbitrary Number of Arguments\n",
    "## Objective: Use *args to handle a variable number of arguments and perform a calculation.\n",
    "\n",
    "## Define a function average_score that accepts any number of numeric arguments and returns their average.\n",
    "## Call the function with different numbers of arguments and print the results."
   ]
  }
 ],
 "metadata": {
  "language_info": {
   "name": "python"
  }
 },
 "nbformat": 4,
 "nbformat_minor": 5
}
